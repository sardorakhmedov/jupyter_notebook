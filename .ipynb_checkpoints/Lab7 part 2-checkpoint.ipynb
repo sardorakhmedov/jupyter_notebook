{
 "cells": [
  {
   "cell_type": "code",
   "execution_count": 1,
   "id": "bdb9c2ab-e15f-4e3a-9a10-c6d427e6051d",
   "metadata": {},
   "outputs": [],
   "source": [
    "import csv\n",
    "\n",
    "reviews = [\n",
    "    {\"category\": \"Прекрасный отель\", \"review\": \"Этот отель просто замечательный! Номера всегда чистые, просторные и уютные. Персонал очень приветливый и готов помочь в любое время. Завтраки вкусные и разнообразные. Обязательно вернусь сюда снова!\"},\n",
    "    {\"category\": \"Прекрасный отель\", \"review\": \"Один из лучших отелей, где я останавливался. Отличное расположение, комфортные кровати и потрясающий вид из окна. Особенно понравился спа-салон — просто сказка! Рекомендую всем.\"},\n",
    "    {\"category\": \"Прекрасный отель\", \"review\": \"Каждый раз, когда я здесь останавливаюсь, получаю только положительные эмоции. Всё продумано до мелочей: от удобств в номере до приветливого обслуживания. Завтрак — это отдельная история, всё невероятно вкусно.\"},\n",
    "    {\"category\": \"Прекрасный отель\", \"review\": \"Идеальное место для отдыха. Просторные и стильные номера, бассейн с подогревом и вкусные блюда в ресторане. Персонал очень вежливый и профессиональный. Лучший отель, который я могу порекомендовать.\"},\n",
    "    {\"category\": \"Прекрасный отель\", \"review\": \"Очень понравился этот отель. Всё на высшем уровне: уютные номера, чистота, тишина и комфорт. Завтрак был восхитительным, а сотрудники сделали всё, чтобы мой отдых был идеальным.\"},\n",
    "    {\"category\": \"Прекрасный отель\", \"review\": \"Это место стало моим любимым отелем. Номера роскошные, персонал доброжелательный, а удобства превосходят все ожидания. Я особенно оценил фитнес-зал и возможность заказать еду в номер.\"},\n",
    "    {\"category\": \"Прекрасный отель\", \"review\": \"Очень уютный отель с домашней атмосферой. Я наслаждался тихими вечерами в лобби и вкусным кофе по утрам. Отличный выбор для спокойного отдыха.\"},\n",
    "    {\"category\": \"Прекрасный отель\", \"review\": \"Всегда возвращаюсь сюда с удовольствием. Просторные номера, шикарный сервис и потрясающий вид из окон. Рекомендую попробовать блюда из ресторана — это гастрономический восторг!\"},\n",
    "    {\"category\": \"Прекрасный отель\", \"review\": \"Идеальный отель для семейного отдыха. Чисто, уютно и очень удобно. Дети были в восторге от бассейна, а я насладился спа-процедурами. Отличное место для отпуска.\"},\n",
    "    {\"category\": \"Прекрасный отель\", \"review\": \"Замечательный отель! Комфортные кровати, приятный дизайн интерьера и вкусные завтраки. Я обязательно остановлюсь здесь ещё раз.\"},\n",
    "    {\"category\": \"Плохой хостел\", \"review\": \"Очень разочарован. Комнаты тесные, постельное бельё оставляет желать лучшего, а шум из коридора мешает спать. Цена совершенно не соответствует качеству.\"},\n",
    "    {\"category\": \"Плохой хостел\", \"review\": \"Не советую. Комнаты грязные, в душе неприятный запах, а персонал вовсе не дружелюбный. Даже на ночь останавливаться не рекомендую.\"},\n",
    "    {\"category\": \"Плохой хостел\", \"review\": \"Очень плохой опыт. Места мало, вентиляции практически нет, а кухня выглядит так, будто её не убирали несколько месяцев. Ужасное впечатление.\"},\n",
    "    {\"category\": \"Плохой хостел\", \"review\": \"Самый худший хостел, в котором я был. Постельное бельё пахло странно, комната была холодной, а персонал совершенно не реагировал на просьбы. Очень разочарован.\"},\n",
    "    {\"category\": \"Плохой хостел\", \"review\": \"Категорически не рекомендую. Грязь повсюду, стены тонкие, слышно абсолютно всё, что происходит вокруг. Оставил этот хостел раньше запланированного.\"},\n",
    "    {\"category\": \"Плохой хостел\", \"review\": \"Ужасный хостел. Я ожидал хотя бы минимального комфорта, но получил полное разочарование. Невыносимая обстановка, к тому же дорого для такого уровня.\"},\n",
    "    {\"category\": \"Плохой хостел\", \"review\": \"Абсолютно не понравилось. Комнаты маленькие, кровати скрипят, а в общем пространстве невыносимо грязно. Сюда я больше не вернусь.\"},\n",
    "    {\"category\": \"Плохой хостел\", \"review\": \"Этот хостел — просто кошмар. Мебель старая, всё скрипит и ломается. Не смог остаться там больше одной ночи. Потраченные деньги не стоят этих условий.\"},\n",
    "    {\"category\": \"Плохой хостел\", \"review\": \"Не рекомендую этот хостел. Грязь, шум и полное отсутствие нормальных условий для отдыха. Обслуживание на нуле. Лучше переплатить и найти другое место.\"},\n",
    "    {\"category\": \"Плохой хостел\", \"review\": \"Ужасное место. Грязная ванная, неприятный запах в комнате и жуткий шум по ночам. Впечатления только отрицательные. Никому не советую.\"}\n",
    "]\n",
    "\n",
    "\n",
    "with open(\"reviews.csv\", mode=\"w\", encoding=\"utf-8\", newline=\"\") as file:\n",
    "    writer = csv.DictWriter(file, fieldnames=[\"category\", \"review\"])\n",
    "    writer.writeheader()\n",
    "    writer.writerows(reviews)\n",
    "reviews = []\n",
    "with open(\"reviews.csv\", mode=\"r\", encoding=\"utf-8\") as file:\n",
    "    reader = csv.DictReader(file)\n",
    "    for row in reader:\n",
    "        reviews.append(row)\n",
    "    "
   ]
  },
  {
   "cell_type": "code",
   "execution_count": 2,
   "id": "696899e6-8f44-4af5-8eb3-9cf786b07361",
   "metadata": {},
   "outputs": [
    {
     "name": "stdout",
     "output_type": "stream",
     "text": [
      "Категория: Прекрасный отель\n",
      "Отзыв: Этот отель просто замечательный! Номера всегда чистые, просторные и уютные. Персонал очень приветливый и готов помочь в любое время. Завтраки вкусные и разнообразные. Обязательно вернусь сюда снова!\n",
      "\n",
      "Категория: Прекрасный отель\n",
      "Отзыв: Один из лучших отелей, где я останавливался. Отличное расположение, комфортные кровати и потрясающий вид из окна. Особенно понравился спа-салон — просто сказка! Рекомендую всем.\n",
      "\n",
      "Категория: Прекрасный отель\n",
      "Отзыв: Каждый раз, когда я здесь останавливаюсь, получаю только положительные эмоции. Всё продумано до мелочей: от удобств в номере до приветливого обслуживания. Завтрак — это отдельная история, всё невероятно вкусно.\n",
      "\n",
      "Категория: Прекрасный отель\n",
      "Отзыв: Идеальное место для отдыха. Просторные и стильные номера, бассейн с подогревом и вкусные блюда в ресторане. Персонал очень вежливый и профессиональный. Лучший отель, который я могу порекомендовать.\n",
      "\n",
      "Категория: Прекрасный отель\n",
      "Отзыв: Очень понравился этот отель. Всё на высшем уровне: уютные номера, чистота, тишина и комфорт. Завтрак был восхитительным, а сотрудники сделали всё, чтобы мой отдых был идеальным.\n",
      "\n"
     ]
    }
   ],
   "source": [
    "for review in reviews[:5]:  \n",
    "    print(f\"Категория: {review['category']}\")\n",
    "    print(f\"Отзыв: {review['review']}\\n\")"
   ]
  },
  {
   "cell_type": "code",
   "execution_count": 3,
   "id": "8571c14a-7974-4cb3-a3b1-b4643e39ed6f",
   "metadata": {},
   "outputs": [],
   "source": [
    "import csv\n",
    "from sklearn.model_selection import train_test_split\n",
    "reviews = []\n",
    "with open(\"reviews.csv\", mode=\"r\", encoding=\"utf-8\") as file:\n",
    "    reader = csv.DictReader(file)\n",
    "    for row in reader:\n",
    "        reviews.append(row)\n",
    "texts = [review[\"review\"] for review in reviews]\n",
    "categories = [review[\"category\"] for review in reviews]\n",
    "texts_train, texts_test, categories_train, categories_test = train_test_split(\n",
    "    texts, categories, test_size=0.2, random_state=42\n",
    ")\n",
    "additional_test_reviews = [\n",
    "    {\"category\": \"Прекрасный отель\", \"review\": \"Идеальное место для отпуска. Персонал был невероятно дружелюбным, а номера просторными и современными. У бассейна уютно, а вечером приятно посидеть в ресторане с великолепным видом. Всем рекомендую!\"},\n",
    "    {\"category\": \"Прекрасный отель\", \"review\": \"Отличное соотношение цены и качества! Номера чистые, уборка ежедневная, а завтраки просто на высшем уровне. Очень понравился уютный лобби-бар, где можно расслабиться после прогулок.\"},\n",
    "    {\"category\": \"Прекрасный отель\", \"review\": \"Понравилось абсолютно всё! Великолепное расположение, недалеко от центра, но при этом тихо и спокойно. Удобная кровать, качественная косметика в ванной и приятный аромат везде в отеле.\"},\n",
    "    {\"category\": \"Прекрасный отель\", \"review\": \"Восхитительный отель с потрясающим дизайном. Особенно порадовала терраса с видом на море. Всё, начиная с обслуживания, заканчивая мелочами в номере, было продумано до идеала.\"},\n",
    "    {\"category\": \"Прекрасный отель\", \"review\": \"Прекрасное место для деловой поездки. Быстрый Wi-Fi, удобное рабочее место в номере и потрясающая еда в ресторане. Также порадовали сауна и тренажёрный зал.\"},\n",
    "\n",
    "    {\"category\": \"Плохой хостел\", \"review\": \"Абсолютно неудобное место. В комнате было холодно, отопления нет, а администрация ничем не смогла помочь. Условия просто ужасные для жизни.\"},\n",
    "    {\"category\": \"Плохой хостел\", \"review\": \"Разочарован до глубины души. Душевые грязные, вода еле тёплая, а кровати такие неудобные, что спать невозможно. Совершенно не рекомендую это место.\"},\n",
    "    {\"category\": \"Плохой хостел\", \"review\": \"Слишком шумно! Никакой звукоизоляции, поэтому даже ночью невозможно было уснуть. К тому же матрасы жёсткие, как камень. Впечатление испорчено полностью.\"},\n",
    "    {\"category\": \"Плохой хостел\", \"review\": \"Очень неопрятное место. В комнате пыль, ванная отвратительная, а кухня — это просто кошмар. Оставаться здесь было настоящим испытанием.\"},\n",
    "    {\"category\": \"Плохой хостел\", \"review\": \"Хостел совершенно не оправдал ожиданий. Персонал равнодушный, ремонт старый, а постельное бельё не выглядело свежим. Провёл здесь одну ночь и больше никогда не вернусь.\"}\n",
    "]\n",
    "\n",
    "texts_test.extend([review[\"review\"] for review in additional_test_reviews])\n",
    "categories_test.extend([review[\"category\"] for review in additional_test_reviews])"
   ]
  },
  {
   "cell_type": "code",
   "execution_count": 4,
   "id": "0cff7b34-0da1-4cc4-a985-d54476cd9bdb",
   "metadata": {},
   "outputs": [
    {
     "name": "stdout",
     "output_type": "stream",
     "text": [
      "X_train:\n",
      "<Compressed Sparse Row sparse matrix of dtype 'int64'\n",
      "\twith 302 stored elements and shape (16, 228)>\n"
     ]
    }
   ],
   "source": [
    "from sklearn.feature_extraction.text import CountVectorizer\n",
    "vect = CountVectorizer().fit(texts_train)\n",
    "X_train = vect.transform(texts_train)\n",
    "print(\"X_train:\\n{}\".format(repr(X_train)))"
   ]
  },
  {
   "cell_type": "code",
   "execution_count": 5,
   "id": "d8f7c49b-18a8-4c30-9ba1-74bcdaa2aa38",
   "metadata": {},
   "outputs": [
    {
     "name": "stdout",
     "output_type": "stream",
     "text": [
      "Количество признаков: 228\n",
      "Первые 20 признаков:\n",
      "['абсолютно' 'атмосферой' 'бассейн' 'бассейна' 'бельё' 'блюда' 'больше'\n",
      " 'будто' 'был' 'была' 'были' 'ванная' 'вежливый' 'вентиляции' 'вернусь'\n",
      " 'вечерами' 'вид' 'вкусно' 'вкусные' 'вкусным']\n"
     ]
    }
   ],
   "source": [
    "feature_names = vect.get_feature_names_out()\n",
    "print(\"Количество признаков: {}\".format(len(feature_names)))\n",
    "print(\"Первые 20 признаков:\\n{}\".format(feature_names[:20]))"
   ]
  },
  {
   "cell_type": "code",
   "execution_count": 6,
   "id": "9ce3ea27-53aa-4ebd-bce4-2932223cfa71",
   "metadata": {},
   "outputs": [],
   "source": [
    "stop_words = [\n",
    "    \"Ужасное\", \"Разочарован\", \"Шумно\", \"Неудобное\", \"Грязное\",\n",
    "    \"Невыносимое\", \"Старое\", \"Проблемы\", \"Химический запах\", \"Бесполезное\",\n",
    "    \"Грязь\", \"Холодно\", \"Неоправданно дорого\", \"Неприятный запах\", \"Мусор\",\n",
    "    \"Старый\", \"Дешевое\", \"Плохая вентиляция\", \"Неуютное\", \"Обслуживание на нуле\",\n",
    "]"
   ]
  },
  {
   "cell_type": "code",
   "execution_count": 7,
   "id": "568f3ba3-8748-437e-a8da-e55539a154f3",
   "metadata": {},
   "outputs": [
    {
     "name": "stdout",
     "output_type": "stream",
     "text": [
      "Средняя правильность перекрестной проверки: 1.00\n"
     ]
    }
   ],
   "source": [
    "from sklearn.model_selection import cross_val_score\n",
    "from sklearn.linear_model import LogisticRegression\n",
    "import numpy as np\n",
    "scores = cross_val_score(LogisticRegression(), X_train, categories_train, cv=5)\n",
    "print('Средняя правильность перекрестной проверки: {:.2f}'.format(np.mean(scores)))"
   ]
  },
  {
   "cell_type": "code",
   "execution_count": 8,
   "id": "03cd00cd-8c7b-4128-bc18-8b69d785ccaa",
   "metadata": {},
   "outputs": [
    {
     "name": "stdout",
     "output_type": "stream",
     "text": [
      "Наилучшее значение перекрестной проверки: 1.00\n",
      "Наилучшие параметры: {'C': 1}\n"
     ]
    }
   ],
   "source": [
    "from sklearn.model_selection import GridSearchCV\n",
    "from sklearn.linear_model import LogisticRegression\n",
    "param_grid = {'C': [0.001, 0.01, 0.1, 1, 10]}\n",
    "grid = GridSearchCV(LogisticRegression(max_iter=100), param_grid, cv=5)\n",
    "grid.fit(X_train, categories_train)\n",
    "\n",
    "print(\"Наилучшее значение перекрестной проверки: {:.2f}\".format(grid.best_score_))\n",
    "print(\"Наилучшие параметры:\", grid.best_params_)"
   ]
  },
  {
   "cell_type": "code",
   "execution_count": 9,
   "id": "6eb99ed7-a4d6-4239-91cf-75149fdc8da2",
   "metadata": {},
   "outputs": [
    {
     "name": "stdout",
     "output_type": "stream",
     "text": [
      "Правильность на тестовом наборе: 0.79\n",
      "                  precision    recall  f1-score   support\n",
      "\n",
      "   Плохой хостел       1.00      0.57      0.73         7\n",
      "Прекрасный отель       0.70      1.00      0.82         7\n",
      "\n",
      "        accuracy                           0.79        14\n",
      "       macro avg       0.85      0.79      0.78        14\n",
      "    weighted avg       0.85      0.79      0.78        14\n",
      "\n"
     ]
    }
   ],
   "source": [
    "X_test = vect.transform(texts_test)\n",
    "from sklearn.metrics import classification_report, confusion_matrix\n",
    "print(\"Правильность на тестовом наборе: {:.2f}\".format(grid.score(X_test, categories_test)))\n",
    "y_pred = grid.predict(X_test)\n",
    "\n",
    "print(classification_report(categories_test, y_pred))"
   ]
  },
  {
   "cell_type": "code",
   "execution_count": 10,
   "id": "dae99091-94a7-4eb1-9ccb-8e97e100a1ea",
   "metadata": {},
   "outputs": [
    {
     "name": "stdout",
     "output_type": "stream",
     "text": [
      "Наилучшее значение перекрестной проверки: 1.00\n",
      "Точность на тестовом наборе: 0.79\n",
      "                  precision    recall  f1-score   support\n",
      "\n",
      "   Плохой хостел       1.00      0.57      0.73         7\n",
      "Прекрасный отель       0.70      1.00      0.82         7\n",
      "\n",
      "        accuracy                           0.79        14\n",
      "       macro avg       0.85      0.79      0.78        14\n",
      "    weighted avg       0.85      0.79      0.78        14\n",
      "\n"
     ]
    }
   ],
   "source": [
    "from sklearn.feature_extraction.text import TfidfVectorizer\n",
    "from sklearn.pipeline import make_pipeline\n",
    "from sklearn.linear_model import LogisticRegression\n",
    "from sklearn.model_selection import GridSearchCV\n",
    "\n",
    "pipe = make_pipeline(TfidfVectorizer(min_df=5, norm=None), LogisticRegression(max_iter=100))\n",
    "param_grid = {'logisticregression__C': [0.001, 0.01, 0.1, 1, 10]}\n",
    "grid = GridSearchCV(pipe, param_grid, cv=5)\n",
    "grid.fit(texts_train, categories_train)\n",
    "print(\"Наилучшее значение перекрестной проверки: {:.2f}\".format(grid.best_score_))\n",
    "test_score = grid.best_estimator_.score(texts_test, categories_test)\n",
    "print(\"Точность на тестовом наборе: {:.2f}\".format(test_score))\n",
    "\n",
    "y_pred = grid.predict(texts_test)\n",
    "\n",
    "print(classification_report(categories_test, y_pred))"
   ]
  },
  {
   "cell_type": "code",
   "execution_count": 11,
   "id": "29940f39-bece-4d8b-9625-6a624dfb01e3",
   "metadata": {},
   "outputs": [
    {
     "name": "stdout",
     "output_type": "stream",
     "text": [
      "Best cross-validation score: 1.00\n",
      "Best parameters:\n",
      "{'logisticregression__C': 10, 'tfidfvectorizer__ngram_range': (1, 1)}\n"
     ]
    }
   ],
   "source": [
    "from sklearn.feature_extraction.text import TfidfVectorizer\n",
    "from sklearn.pipeline import make_pipeline\n",
    "from sklearn.linear_model import LogisticRegression\n",
    "from sklearn.model_selection import GridSearchCV\n",
    "\n",
    "pipe = make_pipeline(TfidfVectorizer(min_df=1), LogisticRegression())\n",
    "param_grid = {'logisticregression__C': [0.001, 0.01, 0.1, 1, 10, 100],\n",
    "              'tfidfvectorizer__ngram_range': [(1, 1), (1, 2), (1, 3)]}\n",
    "grid = GridSearchCV(pipe, param_grid, cv=5)\n",
    "grid.fit(texts_train, categories_train)\n",
    "print(\"Best cross-validation score: {:.2f}\".format(grid.best_score_))\n",
    "print(\"Best parameters:\\n{}\".format(grid.best_params_))"
   ]
  },
  {
   "cell_type": "markdown",
   "id": "0e4dec91-51b6-4eb0-b039-45d0a2cd8811",
   "metadata": {},
   "source": [
    "В рамках проекта была разработана система классификации отзывов о отелях и хостелах на категории \"Прекрасный отель\" и \"Плохой хостел\". Система использует анализ текста, исключая стоп-слова, что помогает повысить точность обработки и выделить значимые характеристики. Это позволяет более точно определить общее мнение о заведении, выявить сильные и слабые стороны, а также предложить улучшения в обслуживании. Проект может быть полезен для автоматизированного анализа отзывов, улучшения качества обслуживания и мониторинга репутации. В будущем планируется интеграция системы в веб-приложения для точного анализа пользовательских данных и использования алгоритмов машинного обучения."
   ]
  },
  {
   "cell_type": "code",
   "execution_count": null,
   "id": "b2c9d9b3-bb51-46f7-aa73-f33f9da2df3a",
   "metadata": {},
   "outputs": [],
   "source": []
  }
 ],
 "metadata": {
  "kernelspec": {
   "display_name": "Python 3 (ipykernel)",
   "language": "python",
   "name": "python3"
  },
  "language_info": {
   "codemirror_mode": {
    "name": "ipython",
    "version": 3
   },
   "file_extension": ".py",
   "mimetype": "text/x-python",
   "name": "python",
   "nbconvert_exporter": "python",
   "pygments_lexer": "ipython3",
   "version": "3.12.3"
  }
 },
 "nbformat": 4,
 "nbformat_minor": 5
}
